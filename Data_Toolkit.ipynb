{
  "nbformat": 4,
  "nbformat_minor": 0,
  "metadata": {
    "colab": {
      "provenance": []
    },
    "kernelspec": {
      "name": "python3",
      "display_name": "Python 3"
    },
    "language_info": {
      "name": "python"
    }
  },
  "cells": [
    {
      "cell_type": "markdown",
      "source": [
        "#Data Toolkit"
      ],
      "metadata": {
        "id": "Hm24cLA-r5E6"
      }
    },
    {
      "cell_type": "markdown",
      "source": [
        "##Theoretical Questions"
      ],
      "metadata": {
        "id": "kA7TKg4fuawu"
      }
    },
    {
      "cell_type": "markdown",
      "source": [
        "1. What is NumPy, and why is it widely used in Python?\n",
        "-> NumPy is a Python library for numerical computing. It provides efficient array operations, mathematical functions, and integration with other libraries. Its speed comes from contiguous memory storage and vectorized operations."
      ],
      "metadata": {
        "id": "Zne3ZkVfr7-S"
      }
    },
    {
      "cell_type": "markdown",
      "source": [
        "2. How does broadcasting work in NumPy?\n",
        "-> Broadcasting allows arithmetic operations between arrays of different shapes by expanding smaller arrays to match the shape of larger ones. Rules: dimensions must be equal or one of them is 1."
      ],
      "metadata": {
        "id": "Pp2mxX7UsAYI"
      }
    },
    {
      "cell_type": "markdown",
      "source": [
        "3. What is a Pandas DataFrame?\n",
        "-> A DataFrame is a 2D labeled data structure with columns of different data types, similar to a spreadsheet or SQL table."
      ],
      "metadata": {
        "id": "DtWML3FlsGWk"
      }
    },
    {
      "cell_type": "markdown",
      "source": [
        "4. Explain the use of the groupby() method in Pandas.\n",
        "-> Groups data by a column's values and applies aggregations (e.g., sum, mean). Example:"
      ],
      "metadata": {
        "id": "9FrbrCC1sQcF"
      }
    },
    {
      "cell_type": "code",
      "source": [
        "df.groupby('category')['sales'].sum()"
      ],
      "metadata": {
        "id": "qF7sIaX4sZQK"
      },
      "execution_count": null,
      "outputs": []
    },
    {
      "cell_type": "markdown",
      "source": [
        "5. Why is Seaborn preferred for statistical visualizations?\n",
        "-> Seaborn offers high-level, attractive statistical plots (e.g., regression, distribution) with minimal code, built on Matplotlib."
      ],
      "metadata": {
        "id": "StTVvDWMsb5G"
      }
    },
    {
      "cell_type": "markdown",
      "source": [
        "6. What are the differences between NumPy arrays and Python lists?\n",
        "-> NumPy arrays: homogeneous, fixed size, faster for math. Python lists: heterogeneous, dynamic size."
      ],
      "metadata": {
        "id": "Yer-GqnXsh79"
      }
    },
    {
      "cell_type": "markdown",
      "source": [
        "7. What is a heatmap, and when should it be used?\n",
        "-> A color-coded matrix for visualizing patterns (e.g., correlations, confusion matrices). Use it to show relationships between variables."
      ],
      "metadata": {
        "id": "S7sL9rnssslM"
      }
    },
    {
      "cell_type": "markdown",
      "source": [
        "8. What does “vectorized operation” mean in NumPy?\n",
        "-> Operations applied to entire arrays without loops, optimized in C for speed. Example: arr + 1."
      ],
      "metadata": {
        "id": "_EmoykTBsw9m"
      }
    },
    {
      "cell_type": "markdown",
      "source": [
        "9. How does Matplotlib differ from Plotly?\n",
        "-> Matplotlib: static plots, more code for interactivity. Plotly: interactive, web-ready plots."
      ],
      "metadata": {
        "id": "x2ap16ILs2Ad"
      }
    },
    {
      "cell_type": "markdown",
      "source": [
        "10. What is hierarchical indexing in Pandas?\n",
        "-> Multi-level indexing for grouping data hierarchically. Example:"
      ],
      "metadata": {
        "id": "GcrtdhYRs7Rj"
      }
    },
    {
      "cell_type": "code",
      "source": [
        "df.set_index(['region', 'year'])"
      ],
      "metadata": {
        "id": "6o252mcgtAuv"
      },
      "execution_count": null,
      "outputs": []
    },
    {
      "cell_type": "markdown",
      "source": [
        "11. Role of Seaborn’s pairplot() function?\n",
        "-> Creates scatter plots and histograms for pairwise relationships in a dataset:"
      ],
      "metadata": {
        "id": "aOrx9RNetCr9"
      }
    },
    {
      "cell_type": "code",
      "source": [
        "sns.pairplot(df)"
      ],
      "metadata": {
        "id": "PN9H60kItHNA"
      },
      "execution_count": null,
      "outputs": []
    },
    {
      "cell_type": "markdown",
      "source": [
        "12. Purpose of describe() in Pandas?\n",
        "-> Generates summary statistics (mean, std, min, max, etc.):"
      ],
      "metadata": {
        "id": "V67MCQLatJ0P"
      }
    },
    {
      "cell_type": "code",
      "source": [
        "df.describe()"
      ],
      "metadata": {
        "id": "JDpjsBxStPJd"
      },
      "execution_count": null,
      "outputs": []
    },
    {
      "cell_type": "markdown",
      "source": [
        "13. Why handle missing data?\n",
        "-> Missing data can skew results. Use fillna() or dropna() to manage them."
      ],
      "metadata": {
        "id": "mdzaQqnttQ_v"
      }
    },
    {
      "cell_type": "markdown",
      "source": [
        "14. Benefits of Plotly?\n",
        "-> Interactive plots, 3D support, dashboards, web integration."
      ],
      "metadata": {
        "id": "LKJ5vZRbtU99"
      }
    },
    {
      "cell_type": "markdown",
      "source": [
        "15. How does NumPy handle multidimensional arrays?\n",
        "-> Uses ndarray for n-dimensional data with efficient memory storage."
      ],
      "metadata": {
        "id": "MqoOba5etZwA"
      }
    },
    {
      "cell_type": "markdown",
      "source": [
        "16. Role of Bokeh?\n",
        "-> Interactive visualization library for web browsers, handles large datasets."
      ],
      "metadata": {
        "id": "u1-MUpPYtfge"
      }
    },
    {
      "cell_type": "markdown",
      "source": [
        "17. Difference between apply() and map()?\n",
        "\n",
        "* apply(): Apply function to DataFrame/Series.\n",
        "\n",
        "* map(): Replace Series values using a dict/function."
      ],
      "metadata": {
        "id": "hNgHmIHptjei"
      }
    },
    {
      "cell_type": "markdown",
      "source": [
        "18. Advanced NumPy features?\n",
        "-> Broadcasting, ufuncs, structured arrays, advanced indexing."
      ],
      "metadata": {
        "id": "FErMgcqLtpit"
      }
    },
    {
      "cell_type": "markdown",
      "source": [
        "19. How Pandas simplifies time series?\n",
        "-> Date ranges, resampling, time zone handling:"
      ],
      "metadata": {
        "id": "8jauTsywtusR"
      }
    },
    {
      "cell_type": "code",
      "source": [
        "pd.date_range('2023-01-01', periods=5)"
      ],
      "metadata": {
        "id": "uo1oP3ixt47J"
      },
      "execution_count": null,
      "outputs": []
    },
    {
      "cell_type": "markdown",
      "source": [
        "20. Role of pivot table?\n",
        "-> Reshapes data by grouping and aggregating:"
      ],
      "metadata": {
        "id": "oAQxvh56tzU0"
      }
    },
    {
      "cell_type": "code",
      "source": [
        "df.pivot_table(values='sales', index='region', aggfunc='sum')"
      ],
      "metadata": {
        "id": "bVEvv08JuEhG"
      },
      "execution_count": null,
      "outputs": []
    },
    {
      "cell_type": "markdown",
      "source": [
        "21. Why NumPy slicing is faster?\n",
        "-> Creates memory-efficient views instead of copies like Python lists."
      ],
      "metadata": {
        "id": "tiNNx1cIuGYm"
      }
    },
    {
      "cell_type": "markdown",
      "source": [
        "22. Common Seaborn use cases?\n",
        "-> Heatmaps, distribution plots, regression plots, pairplots."
      ],
      "metadata": {
        "id": "-mslzxm3uK5R"
      }
    },
    {
      "cell_type": "markdown",
      "source": [
        "##Practical Questions"
      ],
      "metadata": {
        "id": "IRQKrHa8uRbR"
      }
    },
    {
      "cell_type": "markdown",
      "source": [
        "1. How do you create a 2D NumPy array and calculate the sum of each row?\n",
        "-> Create 2D NumPy array and sum rows"
      ],
      "metadata": {
        "id": "s5fo18qsukeg"
      }
    },
    {
      "cell_type": "code",
      "source": [
        "import numpy as np\n",
        "arr = np.array([[1, 2], [3, 4]])\n",
        "row_sums = arr.sum(axis=1)\n",
        "print(row_sums)"
      ],
      "metadata": {
        "id": "toc4QeGkuo7W"
      },
      "execution_count": null,
      "outputs": []
    },
    {
      "cell_type": "markdown",
      "source": [
        "2. Write a Pandas script to find the mean of a specific column in a DataFrame?\n",
        "->Pandas script for column mean"
      ],
      "metadata": {
        "id": "lNtmSbY_usAd"
      }
    },
    {
      "cell_type": "code",
      "source": [
        "import pandas as pd\n",
        "df = pd.DataFrame({'A': [1, 2, 3]})\n",
        "mean = df['A'].mean()\n",
        "print(mean)"
      ],
      "metadata": {
        "id": "0t50yL38uuqC"
      },
      "execution_count": null,
      "outputs": []
    },
    {
      "cell_type": "markdown",
      "source": [
        "3. Create a scatter plot using Matplotlib."
      ],
      "metadata": {
        "id": "nB1R1zxkvJRZ"
      }
    },
    {
      "cell_type": "code",
      "source": [
        "import matplotlib.pyplot as plt\n",
        "x = [1, 2, 3]\n",
        "y = [4, 5, 6]\n",
        "plt.scatter(x, y)\n",
        "plt.show()"
      ],
      "metadata": {
        "id": "5wlax0KdvPxv"
      },
      "execution_count": null,
      "outputs": []
    },
    {
      "cell_type": "markdown",
      "source": [
        "4. How do you calculate the correlation matrix using Seaborn and visualize it with a heatmap?"
      ],
      "metadata": {
        "id": "iwAGaqXmvZlL"
      }
    },
    {
      "cell_type": "code",
      "source": [
        "import seaborn as sns\n",
        "import pandas as pd\n",
        "df = pd.DataFrame(np.random.rand(5, 5))\n",
        "sns.heatmap(df.corr())\n",
        "plt.show()"
      ],
      "metadata": {
        "id": "DMt4v3M_vb8u"
      },
      "execution_count": null,
      "outputs": []
    },
    {
      "cell_type": "markdown",
      "source": [
        "5.  Generate a bar plot using Plotly."
      ],
      "metadata": {
        "id": "uN01U7Hgvevy"
      }
    },
    {
      "cell_type": "code",
      "source": [
        "import plotly.express as px\n",
        "df = px.data.tips()\n",
        "fig = px.bar(df, x='day', y='total_bill')\n",
        "fig.show()"
      ],
      "metadata": {
        "id": "CPQsmgnhvlnx"
      },
      "execution_count": null,
      "outputs": []
    },
    {
      "cell_type": "markdown",
      "source": [
        "6. Create a DataFrame and add a new column based on an existing column."
      ],
      "metadata": {
        "id": "ZZXc3Z8TvvT1"
      }
    },
    {
      "cell_type": "code",
      "source": [
        "df = pd.DataFrame({'A': [1, 2, 3]})\n",
        "df['B'] = df['A'] * 2\n",
        "print(df)"
      ],
      "metadata": {
        "id": "KXXT95sYvxfV"
      },
      "execution_count": null,
      "outputs": []
    },
    {
      "cell_type": "markdown",
      "source": [
        "7.  Write a program to perform element-wise multiplication of two NumPy arrays."
      ],
      "metadata": {
        "id": "GKm_Ku9fv17J"
      }
    },
    {
      "cell_type": "code",
      "source": [
        "a = np.array([1, 2])\n",
        "b = np.array([3, 4])\n",
        "result = a * b\n",
        "print(result)"
      ],
      "metadata": {
        "id": "UT6lx0whv-d7"
      },
      "execution_count": null,
      "outputs": []
    },
    {
      "cell_type": "markdown",
      "source": [
        "8. Create a line plot with multiple lines using Matplotlib."
      ],
      "metadata": {
        "id": "5X_2FH9_wAyR"
      }
    },
    {
      "cell_type": "code",
      "source": [
        "x = [1, 2, 3]\n",
        "y1 = [4, 5, 6]\n",
        "y2 = [7, 8, 9]\n",
        "plt.plot(x, y1, label='Line 1')\n",
        "plt.plot(x, y2, label='Line 2')\n",
        "plt.legend()\n",
        "plt.show()"
      ],
      "metadata": {
        "id": "8ffAHrqMwGoZ"
      },
      "execution_count": null,
      "outputs": []
    },
    {
      "cell_type": "markdown",
      "source": [
        "9. Generate a Pandas DataFrame and filter rows where a column value is greater than a threshold."
      ],
      "metadata": {
        "id": "H9-DVy9zwHUR"
      }
    },
    {
      "cell_type": "code",
      "source": [
        "df = pd.DataFrame({'A': [10, 20, 30]})\n",
        "filtered = df[df['A'] > 15]\n",
        "print(filtered)"
      ],
      "metadata": {
        "id": "6pnmKUlYwL2z"
      },
      "execution_count": null,
      "outputs": []
    },
    {
      "cell_type": "markdown",
      "source": [
        "10. Create a histogram using Seaborn to visualize a distribution."
      ],
      "metadata": {
        "id": "PiIC7GQDwOCQ"
      }
    },
    {
      "cell_type": "code",
      "source": [
        "sns.histplot(data=df, x='A')\n",
        "plt.show()"
      ],
      "metadata": {
        "id": "R9KPSWNgwR0Y"
      },
      "execution_count": null,
      "outputs": []
    },
    {
      "cell_type": "markdown",
      "source": [
        "11. Perform matrix multiplication using NumPy."
      ],
      "metadata": {
        "id": "8r2vKcMVwUEy"
      }
    },
    {
      "cell_type": "code",
      "source": [
        "a = np.array([[1, 2], [3, 4]])\n",
        "b = np.array([[5, 6], [7, 8]])\n",
        "result = a @ b\n",
        "print(result)"
      ],
      "metadata": {
        "id": "csWqXJ-mwX1f"
      },
      "execution_count": null,
      "outputs": []
    },
    {
      "cell_type": "markdown",
      "source": [
        "12. Use Pandas to load a CSV file and display its first 5 rows."
      ],
      "metadata": {
        "id": "Q_8DWeD4wafK"
      }
    },
    {
      "cell_type": "code",
      "source": [
        "df = pd.read_csv('data.csv')\n",
        "print(df.head())"
      ],
      "metadata": {
        "id": "fgAICDg6welb"
      },
      "execution_count": null,
      "outputs": []
    },
    {
      "cell_type": "markdown",
      "source": [
        "13. Create a 3D scatter plot using Plotly.\n"
      ],
      "metadata": {
        "id": "NTSW0e17whAz"
      }
    },
    {
      "cell_type": "code",
      "source": [
        "df = px.data.iris()\n",
        "fig = px.scatter_3d(df, x='sepal_length', y='sepal_width', z='petal_length', color='species')\n",
        "fig.show()"
      ],
      "metadata": {
        "id": "5pGuWvZIwnF8"
      },
      "execution_count": null,
      "outputs": []
    }
  ]
}