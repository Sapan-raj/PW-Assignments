{
  "nbformat": 4,
  "nbformat_minor": 0,
  "metadata": {
    "colab": {
      "provenance": []
    },
    "kernelspec": {
      "name": "python3",
      "display_name": "Python 3"
    },
    "language_info": {
      "name": "python"
    }
  },
  "cells": [
    {
      "cell_type": "markdown",
      "source": [
        "#Functions"
      ],
      "metadata": {
        "id": "EGwGBeTOtQK-"
      }
    },
    {
      "cell_type": "markdown",
      "source": [
        "##Theory Questions:"
      ],
      "metadata": {
        "id": "Ywra3_E8tEUp"
      }
    },
    {
      "cell_type": "markdown",
      "source": [
        "1. What is the difference between a function and a method in Python?\n",
        "-> A function is a block of code that performs a specific task and can be called independently. A method is a function that is associated with an object and can access and modify the object's data.\n",
        "\n",
        "2. Explain the concept of function arguments and parameters in Python.\n",
        "-> Parameters are variables defined in the function signature, while arguments are the actual values passed to the function when it is called.\n",
        "\n",
        "3. What are the different ways to define and call a function in Python?\n",
        "-> Functions can be defined using the def keyword, lambda expressions, or using built-in functions. They can be called by their name followed by parentheses, optionally passing arguments.\n",
        "\n",
        "4. What is the purpose of the return statement in a Python function?\n",
        "-> The return statement is used to exit a function and return a value to the caller.\n",
        "\n",
        "5. What are iterators in Python and how do they differ from iterables?\n",
        "-> Iterators are objects that implement the iterator protocol, consisting of the __iter__() and __next__() methods. Iterables are objects that can return an iterator using the __iter__() method.\n",
        "\n",
        "6. Explain the concept of generators in Python and how they are defined.\n",
        "-> Generators are special functions that yield values one at a time using the yield keyword, allowing iteration over potentially large datasets without storing them in memory.\n",
        "\n",
        "7. What are the advantages of using generators over regular functions?\n",
        "-> Generators provide lazy evaluation, which can save memory and improve performance when dealing with large datasets.\n",
        "\n",
        "8. What is a lambda function in Python and when is it typically used?\n",
        "-> A lambda function is an anonymous, single-expression function defined using the lambda keyword. It is typically used for short, simple functions that are passed as arguments to higher-order functions.\n",
        "\n",
        "9. Explain the purpose and usage of the map() function in Python.\n",
        "-> The map() function applies a given function to each item in an iterable and returns an iterator with the results.\n",
        "\n",
        "10. What is the difference between map(), reduce(), and filter() functions in Python?\n",
        "-> map() applies a function to each item in an iterable, reduce() applies a function cumulatively to items in an iterable to reduce it to a single value, and filter() returns an iterator containing items from an iterable that satisfy a given condition.\n",
        "\n",
        "11. Using pen & Paper write the internal mechanism for sum operation using  reduce function on this given\n",
        "list:[47,11,42,13];      "
      ],
      "metadata": {
        "id": "zx3c5WlMonKf"
      }
    },
    {
      "cell_type": "code",
      "execution_count": 1,
      "metadata": {
        "colab": {
          "base_uri": "https://localhost:8080/"
        },
        "id": "VBe_iQv-n8u1",
        "outputId": "e33c7e86-6b7c-4ca3-8aa2-7432ae0f4755"
      },
      "outputs": [
        {
          "output_type": "stream",
          "name": "stdout",
          "text": [
            "[(34587, 163.8), (98762, 284.0), (77226, 108.85000000000001), (88112, 84.97)]\n"
          ]
        }
      ],
      "source": [
        "# List of orders\n",
        "orders = [\n",
        "    [34587, 'Learning Python, Mark Lutz', 4, 40.95],\n",
        "    [98762, 'Programming Python, Mark Lutz', 5, 56.80],\n",
        "    [77226, 'Head First Python, Paul Barry', 3, 32.95],\n",
        "    [88112, 'Einführung in Python3, Bernd Klein', 3, 24.99]\n",
        "]\n",
        "\n",
        "# Function to calculate the total price with the condition\n",
        "calculate_total = lambda order: (order[0], order[2] * order[3] + 10 if order[2] * order[3] < 100 else order[2] * order[3])\n",
        "\n",
        "# Applying the function to each order using map\n",
        "order_totals = list(map(calculate_total, orders))\n",
        "\n",
        "# Printing the result\n",
        "print(order_totals)"
      ]
    },
    {
      "cell_type": "markdown",
      "source": [
        "#Practical Questions:"
      ],
      "metadata": {
        "id": "FwwV622AtXmf"
      }
    },
    {
      "cell_type": "markdown",
      "source": [
        "1. Write a Python function that takes a list of numbers as input and returns the sum of all even numbers in the list."
      ],
      "metadata": {
        "id": "XO__KL9ntk7Z"
      }
    },
    {
      "cell_type": "code",
      "source": [
        "def sum_even_numbers(numbers):\n",
        "    return sum(num for num in numbers if num % 2 == 0)"
      ],
      "metadata": {
        "id": "USHKPP93tvp1"
      },
      "execution_count": 2,
      "outputs": []
    },
    {
      "cell_type": "markdown",
      "source": [
        "2. Create a Python function that accepts a string and returns the reverse of that string."
      ],
      "metadata": {
        "id": "hfNs1mkbtzQM"
      }
    },
    {
      "cell_type": "code",
      "source": [
        "def reverse_string(s):\n",
        "    return s[::-1]"
      ],
      "metadata": {
        "id": "DPienztdtyVz"
      },
      "execution_count": null,
      "outputs": []
    },
    {
      "cell_type": "markdown",
      "source": [
        "3. Implement a Python function that takes a list of integers and returns a new list containing the squares of each number."
      ],
      "metadata": {
        "id": "kugnbNHpt8Aa"
      }
    },
    {
      "cell_type": "code",
      "source": [
        "def square_numbers(numbers):\n",
        "    return [num ** 2 for num in numbers]"
      ],
      "metadata": {
        "id": "by_T2WIIt_3q"
      },
      "execution_count": 3,
      "outputs": []
    },
    {
      "cell_type": "markdown",
      "source": [
        "4. Write a Python function that checks if a given number is prime or not from 1 to 200."
      ],
      "metadata": {
        "id": "T9X8IUFjuDbu"
      }
    },
    {
      "cell_type": "code",
      "source": [
        "def is_prime(n):\n",
        "    if n <= 1:\n",
        "        return False\n",
        "    for i in range(2, int(n ** 0.5) + 1):\n",
        "        if n % i == 0:\n",
        "            return False\n",
        "    return True\n",
        "\n",
        "primes = [num for num in range(1, 201) if is_prime(num)]"
      ],
      "metadata": {
        "id": "1WC5H0JruC4G"
      },
      "execution_count": null,
      "outputs": []
    },
    {
      "cell_type": "markdown",
      "source": [
        "5. Create an iterator class in Python that generates the Fibonacci sequence up to a specified number of terms."
      ],
      "metadata": {
        "id": "K-VjhJLwuKz9"
      }
    },
    {
      "cell_type": "code",
      "source": [
        "class Fibonacci:\n",
        "    def __init__(self, terms):\n",
        "        self.terms = terms\n",
        "        self.current = 0\n",
        "        self.next = 1\n",
        "        self.count = 0\n",
        "\n",
        "    def __iter__(self):\n",
        "        return self\n",
        "\n",
        "    def __next__(self):\n",
        "        if self.count >= self.terms:\n",
        "            raise StopIteration\n",
        "        self.current, self.next = self.next, self.current + self.next\n",
        "        self.count += 1\n",
        "        return self.current"
      ],
      "metadata": {
        "id": "P6BZdZe-uSeW"
      },
      "execution_count": null,
      "outputs": []
    },
    {
      "cell_type": "markdown",
      "source": [
        "6. Write a generator function in Python that yields the powers of 2 up to a given exponent."
      ],
      "metadata": {
        "id": "VTnoLhDduaqA"
      }
    },
    {
      "cell_type": "code",
      "source": [
        "def powers_of_two(exponent):\n",
        "    for i in range(exponent + 1):\n",
        "        yield 2 ** i"
      ],
      "metadata": {
        "id": "OgN62kb6ufHX"
      },
      "execution_count": 4,
      "outputs": []
    },
    {
      "cell_type": "markdown",
      "source": [
        "7. Implement a generator function that reads a file line by line and yields each line as a string."
      ],
      "metadata": {
        "id": "Pb56XrR4uiny"
      }
    },
    {
      "cell_type": "code",
      "source": [
        "def read_file_line_by_line(file_path):\n",
        "    with open(file_path, 'r') as file:\n",
        "        for line in file:\n",
        "            yield line.strip()"
      ],
      "metadata": {
        "id": "XXXt1-ezuiD3"
      },
      "execution_count": 5,
      "outputs": []
    },
    {
      "cell_type": "markdown",
      "source": [
        "8. Use a lambda function in Python to sort a list of tuples based on the second element of each tuple."
      ],
      "metadata": {
        "id": "OJLepV7iuq5N"
      }
    },
    {
      "cell_type": "code",
      "source": [
        "tuples_list = [(1, 3), (4, 1), (5, 2)]\n",
        "sorted_tuples = sorted(tuples_list, key=lambda x: x[1])"
      ],
      "metadata": {
        "id": "ufk47KEcupio"
      },
      "execution_count": 6,
      "outputs": []
    },
    {
      "cell_type": "markdown",
      "source": [
        "9. Write a Python program that uses map() to convert a list of temperatures from Celsius to Fahrenheit."
      ],
      "metadata": {
        "id": "pc4EbXw0uzfz"
      }
    },
    {
      "cell_type": "code",
      "source": [
        "celsius = [0, 20, 37, 100]\n",
        "fahrenheit = list(map(lambda x: (x * 9/5) + 32, celsius))"
      ],
      "metadata": {
        "id": "lCOjaTW-uy27"
      },
      "execution_count": 7,
      "outputs": []
    },
    {
      "cell_type": "markdown",
      "source": [
        "10. Create a Python program that uses filter() to remove all the vowels from a given string."
      ],
      "metadata": {
        "id": "NwCEOQSQu5q-"
      }
    },
    {
      "cell_type": "code",
      "source": [
        "def remove_vowels(s):\n",
        "    vowels = 'aeiouAEIOU'\n",
        "    return ''.join(filter(lambda x: x not in vowels, s))"
      ],
      "metadata": {
        "id": "0xREaSe5u5Kk"
      },
      "execution_count": 8,
      "outputs": []
    },
    {
      "cell_type": "markdown",
      "source": [
        "11. Imagine an accounting routine used in a book shop. It works on a list with sublists, which look like this:"
      ],
      "metadata": {
        "id": "ZqnPjy1svCpn"
      }
    },
    {
      "cell_type": "code",
      "source": [
        "orders = [\n",
        "    [34587, 'Learning Python, Mark Lutz', 4, 40.95],\n",
        "    [98762, 'Programming Python, Mark Lutz', 5, 56.80],\n",
        "    [77226, 'Head First Python, Paul Barry', 3, 32.95],\n",
        "    [88112, 'Einführung in Python3, Bernd Klein', 3, 24.99]\n",
        "]\n",
        "\n",
        "order_totals = list(map(lambda x: (x[0], x[2] * x[3] + 10) if x[2] * x[3] < 100 else (x[0], x[2] * x[3]), orders))"
      ],
      "metadata": {
        "id": "PK-__fcavB6P"
      },
      "execution_count": 9,
      "outputs": []
    }
  ]
}