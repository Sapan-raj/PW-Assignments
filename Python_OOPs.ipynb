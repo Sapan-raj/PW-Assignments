{
  "nbformat": 4,
  "nbformat_minor": 0,
  "metadata": {
    "colab": {
      "provenance": []
    },
    "kernelspec": {
      "name": "python3",
      "display_name": "Python 3"
    },
    "language_info": {
      "name": "python"
    }
  },
  "cells": [
    {
      "cell_type": "markdown",
      "source": [
        "#Python OOPs Questions"
      ],
      "metadata": {
        "id": "63V_WVcWPtEh"
      }
    },
    {
      "cell_type": "markdown",
      "source": [
        "1. What is Object-Oriented Programming (OOP)?\n",
        "-> A programming paradigm that organizes code into reusable \"objects\" containing data (attributes) and behavior (methods)."
      ],
      "metadata": {
        "id": "V-BSgJW1QN8V"
      }
    },
    {
      "cell_type": "markdown",
      "source": [
        "2. What is a class in OOP?\n",
        "-> A blueprint for creating objects. Example: class Dog: defines attributes (e.g., name) and methods (e.g., bark())."
      ],
      "metadata": {
        "id": "-ZXh7Hj8Qp0f"
      }
    },
    {
      "cell_type": "markdown",
      "source": [
        "3. What is an object in OOP?\n",
        "-> An instance of a class. Example: my_dog = Dog() creates an object from the Dog class."
      ],
      "metadata": {
        "id": "eAH3Joi8RIFW"
      }
    },
    {
      "cell_type": "markdown",
      "source": [
        "4. What is the difference between abstraction and encapsulation?\n",
        "->\n",
        "* Abstraction: Hides complex details (e.g., using a Car class without knowing engine mechanics).\n",
        "\n",
        "* Encapsulation: Bundles data and methods, restricting direct access (e.g., private variables with __balance)."
      ],
      "metadata": {
        "id": "QKnfBjtcRTif"
      }
    },
    {
      "cell_type": "markdown",
      "source": [
        "5. What are dunder methods in Python?\n",
        "-> Special methods like __init__ (constructor) or __str__ (string representation). Defined with double underscores."
      ],
      "metadata": {
        "id": "vzZ7C9vgRqlz"
      }
    },
    {
      "cell_type": "markdown",
      "source": [
        "6. Explain the concept of inheritance in OOP.\n",
        "-> Allows a class (child) to inherit attributes/methods from another class (parent). Example: ElectricCar inherits from Car."
      ],
      "metadata": {
        "id": "ZXQP582fR6fl"
      }
    },
    {
      "cell_type": "markdown",
      "source": [
        "7. What is polymorphism in OOP?\n",
        "-> Same method behaves differently based on the object. Example: play() in Guitar and Piano classes."
      ],
      "metadata": {
        "id": "NfzY6HB6SEgM"
      }
    },
    {
      "cell_type": "markdown",
      "source": [
        "8. How is encapsulation achieved in Python?\n",
        "-> Use _ (protected) or __ (private) prefixes. Example: self.__balance makes balance private."
      ],
      "metadata": {
        "id": "iXppQPyBSVvY"
      }
    },
    {
      "cell_type": "markdown",
      "source": [
        "9. What is a constructor in Python?\n",
        "-> Initializes object attributes when created. Example:"
      ],
      "metadata": {
        "id": "nhrz659oSf9w"
      }
    },
    {
      "cell_type": "code",
      "source": [
        "class Dog:\n",
        "    def __init__(self, name):\n",
        "        self.name = name"
      ],
      "metadata": {
        "id": "jBuT9efdSrPx"
      },
      "execution_count": null,
      "outputs": []
    },
    {
      "cell_type": "markdown",
      "source": [
        "10. What are class and static methods in Python?\n",
        "* Class Method: Takes cls as the first parameter. Decorated with @classmethod.\n",
        "\n",
        "* Static Method: No cls or self. Decorated with @staticmethod."
      ],
      "metadata": {
        "id": "3wOfDPsPSudZ"
      }
    },
    {
      "cell_type": "markdown",
      "source": [
        "11. What is method overloading in Python?\n",
        "-> Python doesn’t support it directly, but you can use default parameters:"
      ],
      "metadata": {
        "id": "XW5rQIHES9PI"
      }
    },
    {
      "cell_type": "code",
      "source": [
        "def greet(self, name=\"\"):\n",
        "    print(f\"Hello {name}\")"
      ],
      "metadata": {
        "id": "Gnsdpsr4TOzA"
      },
      "execution_count": null,
      "outputs": []
    },
    {
      "cell_type": "markdown",
      "source": [
        "12.  What is method overriding in OOP?\n",
        "-> Redefining a parent class method in a child class. Example: Dog overrides speak() from Animal."
      ],
      "metadata": {
        "id": "Z1RmyAgDTTKA"
      }
    },
    {
      "cell_type": "markdown",
      "source": [
        "13. What is a property decorator in Python?\n",
        "-> Allows methods to be accessed like attributes. Example:"
      ],
      "metadata": {
        "id": "ND6mOgQITdRQ"
      }
    },
    {
      "cell_type": "code",
      "source": [
        "@property\n",
        "def balance(self):\n",
        "    return self.__balance"
      ],
      "metadata": {
        "id": "8urx1T_NTpPF"
      },
      "execution_count": null,
      "outputs": []
    },
    {
      "cell_type": "markdown",
      "source": [
        "14. Why is polymorphism important in OOP?\n",
        "-> Enables flexible code that works with objects of different classes through a common interface."
      ],
      "metadata": {
        "id": "8etedtmJTrpy"
      }
    },
    {
      "cell_type": "markdown",
      "source": [
        "15. What is an abstract class in Python?\n",
        "-> A class with abstract methods (unimplemented). Requires subclasses to implement them. Use from abc import ABC, abstractmethod."
      ],
      "metadata": {
        "id": "pXYMb1bzT26-"
      }
    },
    {
      "cell_type": "markdown",
      "source": [
        "16. What are the advantages of OOP?\n",
        "-> Reusability, modularity, easier maintenance, and better code organization."
      ],
      "metadata": {
        "id": "j7vw7lIyUAV8"
      }
    },
    {
      "cell_type": "markdown",
      "source": [
        "17.  What is the difference between a class variable and an instance variable?\n",
        "* Class Variable: Shared by all instances. Defined inside the class.\n",
        "\n",
        "* Instance Variable: Unique to each instance. Defined inside __init__."
      ],
      "metadata": {
        "id": "hUDOhfbcUKST"
      }
    },
    {
      "cell_type": "markdown",
      "source": [
        "18.  What is multiple inheritance in Python?\n",
        "-> A class can inherit from multiple parent classes. Example:"
      ],
      "metadata": {
        "id": "QrgvVdQVUU1N"
      }
    },
    {
      "cell_type": "code",
      "source": [
        "class ElectricCar(Car, Battery):"
      ],
      "metadata": {
        "id": "vUE7PycTUisq"
      },
      "execution_count": null,
      "outputs": []
    },
    {
      "cell_type": "markdown",
      "source": [
        "19. Explain the purpose of ‘’__str__’ and ‘__repr__’ ‘ methods in Python."
      ],
      "metadata": {
        "id": "CZW7c5RhUlZz"
      }
    },
    {
      "cell_type": "code",
      "source": [
        "* __str__: User-friendly string (e.g., print(obj)).\n",
        "\n",
        "* __repr__: Developer-friendly string (e.g., debugging)."
      ],
      "metadata": {
        "id": "e7I_zhyZU7uw"
      },
      "execution_count": null,
      "outputs": []
    },
    {
      "cell_type": "markdown",
      "source": [
        "20. What is the significance of the ‘super()’ function in Python?\n",
        "-> Calls a parent class method. Example:"
      ],
      "metadata": {
        "id": "mqhNkUo7VO1G"
      }
    },
    {
      "cell_type": "code",
      "source": [
        "class ElectricCar(Car):\n",
        "    def __init__(self):\n",
        "        super().__init__()"
      ],
      "metadata": {
        "id": "5l7jfc3nVbcR"
      },
      "execution_count": null,
      "outputs": []
    },
    {
      "cell_type": "markdown",
      "source": [
        "21. What is the significance of the __del__ method in Python?\n",
        "-> Destructor called when an object is deleted. Used for cleanup."
      ],
      "metadata": {
        "id": "zwkLPCpBVlAz"
      }
    },
    {
      "cell_type": "markdown",
      "source": [
        "22.  What is the difference between @staticmethod and @classmethod in Python?\n",
        "-> @classmethod works with the class.\n",
        "\n",
        "@staticmethod doesn’t need the class or instance."
      ],
      "metadata": {
        "id": "34KLyv3-V25g"
      }
    },
    {
      "cell_type": "markdown",
      "source": [
        "23. How does polymorphism work in Python with inheritance?\n",
        "-> Child classes override parent methods, allowing different implementations."
      ],
      "metadata": {
        "id": "murDpcKqWHE2"
      }
    },
    {
      "cell_type": "markdown",
      "source": [
        "24. What is method chaining in Python OOP?\n",
        "-> Return self to chain methods:"
      ],
      "metadata": {
        "id": "YLLzKx0WWXqJ"
      }
    },
    {
      "cell_type": "code",
      "source": [
        "def method1(self):\n",
        "    # do something\n",
        "    return self"
      ],
      "metadata": {
        "id": "Lkl6pKmtWlRc"
      },
      "execution_count": null,
      "outputs": []
    },
    {
      "cell_type": "markdown",
      "source": [
        "25. What is the purpose of the __call__ method in Python?\n",
        "-> Likely a typo. __call__ allows an object to be called like a function."
      ],
      "metadata": {
        "id": "pqTJgph8WynO"
      }
    },
    {
      "cell_type": "markdown",
      "source": [
        "## Practical Questions (Code Examples):"
      ],
      "metadata": {
        "id": "Y4ek6ceqXKsn"
      }
    },
    {
      "cell_type": "markdown",
      "source": [
        "1. Create a parent class Animal with a method speak() that prints a generic message. Create a child class Dog\n",
        "that overrides the speak() method to print \"Bark!\".\n",
        "-> Animal and Dog Classes:"
      ],
      "metadata": {
        "id": "iwLCtET1XQnY"
      }
    },
    {
      "cell_type": "code",
      "source": [
        "class Animal:\n",
        "    def speak(self):\n",
        "        print(\"Generic animal sound\")\n",
        "\n",
        "class Dog(Animal):\n",
        "    def speak(self):\n",
        "        print(\"Bark!\")\n",
        "\n",
        "dog = Dog()\n",
        "dog.speak()  # Output: Bark!"
      ],
      "metadata": {
        "id": "El-6vbdkXZxC"
      },
      "execution_count": null,
      "outputs": []
    },
    {
      "cell_type": "markdown",
      "source": [
        "2. Write a program to create an abstract class Shape with a method area(). Derive classes Circle and Rectangle\n",
        "from it and implement the area() method in both.\n",
        "-> Abstract Shape with Circle and Rectangle:"
      ],
      "metadata": {
        "id": "AkUHQc0_X1N4"
      }
    },
    {
      "cell_type": "code",
      "source": [
        "from abc import ABC, abstractmethod\n",
        "\n",
        "class Shape(ABC):\n",
        "    @abstractmethod\n",
        "    def area(self):\n",
        "        pass\n",
        "\n",
        "class Circle(Shape):\n",
        "    def __init__(self, radius):\n",
        "        self.radius = radius\n",
        "\n",
        "    def area(self):\n",
        "        return 3.14 * self.radius ** 2\n",
        "\n",
        "class Rectangle(Shape):\n",
        "    def __init__(self, length, width):\n",
        "        self.length = length\n",
        "        self.width = width\n",
        "\n",
        "    def area(self):\n",
        "        return self.length * self.width"
      ],
      "metadata": {
        "id": "FfuuRRyDX_1R"
      },
      "execution_count": null,
      "outputs": []
    },
    {
      "cell_type": "markdown",
      "source": [
        "3. Implement a multi-level inheritance scenario where a class Vehicle has an attribute type. Derive a class Car\n",
        "and further derive a class ElectricCar that adds a battery attribute.\n",
        "-> Multi-Level Inheritance (Vehicle -> Car -> ElectricCar):"
      ],
      "metadata": {
        "id": "kzYcF7H8YN7_"
      }
    },
    {
      "cell_type": "code",
      "source": [
        "class Vehicle:\n",
        "    def __init__(self, type):\n",
        "        self.type = type\n",
        "\n",
        "class Car(Vehicle):\n",
        "    def __init__(self, type, brand):\n",
        "        super().__init__(type)\n",
        "        self.brand = brand\n",
        "\n",
        "class ElectricCar(Car):\n",
        "    def __init__(self, type, brand, battery):\n",
        "        super().__init__(type, brand)\n",
        "        self.battery = battery"
      ],
      "metadata": {
        "id": "idZirkqJYYFY"
      },
      "execution_count": null,
      "outputs": []
    },
    {
      "cell_type": "markdown",
      "source": [
        "4. Implement a multi-level inheritance scenario where a class Vehicle has an attribute type. Derive a class Car\n",
        "and further derive a class ElectricCar that adds a battery attribute.\n",
        "-> BankAccount with Encapsulation:"
      ],
      "metadata": {
        "id": "YdlyuD5uYZEl"
      }
    },
    {
      "cell_type": "code",
      "source": [
        "class BankAccount:\n",
        "    def __init__(self):\n",
        "        self.__balance = 0\n",
        "\n",
        "    def deposit(self, amount):\n",
        "        self.__balance += amount\n",
        "\n",
        "    def withdraw(self, amount):\n",
        "        if self.__balance >= amount:\n",
        "            self.__balance -= amount\n",
        "        else:\n",
        "            print(\"Insufficient funds\")\n",
        "\n",
        "    def check_balance(self):\n",
        "        return self.__balance"
      ],
      "metadata": {
        "id": "fBuvM5kTYqMt"
      },
      "execution_count": null,
      "outputs": []
    },
    {
      "cell_type": "markdown",
      "source": [
        "5. Write a program to demonstrate encapsulation by creating a class BankAccount with private attributes\n",
        "balance and methods to deposit, withdraw, and check balance."
      ],
      "metadata": {
        "id": "6bTVwtgfYujL"
      }
    },
    {
      "cell_type": "code",
      "source": [
        "class BankAccount:\n",
        "    def __init__(self):\n",
        "        self.__balance = 0\n",
        "\n",
        "    def deposit(self, amount):\n",
        "        self.__balance += amount\n",
        "\n",
        "    def withdraw(self, amount):\n",
        "        if self.__balance >= amount:\n",
        "            self.__balance -= amount\n",
        "        else:\n",
        "            print(\"Insufficient funds\")\n",
        "\n",
        "    def check_balance(self):\n",
        "        return self.__balance"
      ],
      "metadata": {
        "id": "vsMydgkuY1Y-"
      },
      "execution_count": null,
      "outputs": []
    },
    {
      "cell_type": "markdown",
      "source": [
        "6. Demonstrate runtime polymorphism using a method play() in a base class Instrument. Derive classes Guitar\n",
        "and Piano that implement their own version of play().\n",
        "-> Runtime Polymorphism (Instrument Example):"
      ],
      "metadata": {
        "id": "sPkPfcAZY2ng"
      }
    },
    {
      "cell_type": "code",
      "source": [
        "class Instrument:\n",
        "    def play(self):\n",
        "        print(\"Instrument plays\")\n",
        "\n",
        "class Guitar(Instrument):\n",
        "    def play(self):\n",
        "        print(\"Guitar strums\")\n",
        "\n",
        "class Piano(Instrument):\n",
        "    def play(self):\n",
        "        print(\"Piano keys pressed\")\n",
        "\n",
        "# Usage:\n",
        "instruments = [Guitar(), Piano()]\n",
        "for instrument in instruments:\n",
        "    instrument.play()"
      ],
      "metadata": {
        "id": "YTIaUFp0ZH70"
      },
      "execution_count": null,
      "outputs": []
    },
    {
      "cell_type": "markdown",
      "source": [
        "7. Create a class MathOperations with a class method add_numbers() to add two numbers and a static\n",
        "method subtract_numbers() to subtract two numbers.\n",
        "-> MathOperations with Class and Static Methods:"
      ],
      "metadata": {
        "id": "AyaT4C76ZORG"
      }
    },
    {
      "cell_type": "code",
      "source": [
        "class MathOperations:\n",
        "    @classmethod\n",
        "    def add_numbers(cls, a, b):\n",
        "        return a + b\n",
        "\n",
        "    @staticmethod\n",
        "    def subtract_numbers(a, b):\n",
        "        return a - b\n",
        "\n",
        "print(MathOperations.add_numbers(5, 3))      # Output: 8\n",
        "print(MathOperations.subtract_numbers(5, 3)) # Output: 2"
      ],
      "metadata": {
        "id": "xPYY-Wm6Zckp"
      },
      "execution_count": null,
      "outputs": []
    },
    {
      "cell_type": "markdown",
      "source": [
        "8. Implement a class Person with a class method to count the total number of persons created.\n",
        "-> Person Class with Instance Counter:"
      ],
      "metadata": {
        "id": "fYvHzAo-Zdmj"
      }
    },
    {
      "cell_type": "code",
      "source": [
        "class Person:\n",
        "    count = 0\n",
        "\n",
        "    def __init__(self):\n",
        "        Person.count += 1\n",
        "\n",
        "    @classmethod\n",
        "    def total_persons(cls):\n",
        "        return cls.count\n",
        "\n",
        "p1 = Person()\n",
        "p2 = Person()\n",
        "print(Person.total_persons())  # Output: 2"
      ],
      "metadata": {
        "id": "mdiXg8X-ZovN"
      },
      "execution_count": null,
      "outputs": []
    },
    {
      "cell_type": "markdown",
      "source": [
        "9. Write a class Fraction with attributes numerator and denominator. Override the str method to display the\n",
        "fraction as \"numerator/denominator\".\n",
        "-> Fraction Class with str Override:"
      ],
      "metadata": {
        "id": "o6IUmGn5ZqyE"
      }
    },
    {
      "cell_type": "code",
      "source": [
        "class Fraction:\n",
        "    def __init__(self, numerator, denominator):\n",
        "        self.numerator = numerator\n",
        "        self.denominator = denominator\n",
        "\n",
        "    def __str__(self):\n",
        "        return f\"{self.numerator}/{self.denominator}\"\n",
        "\n",
        "frac = Fraction(3, 4)\n",
        "print(frac)  # Output: 3/4"
      ],
      "metadata": {
        "id": "Bgb4S9Q_ZzKT"
      },
      "execution_count": null,
      "outputs": []
    },
    {
      "cell_type": "markdown",
      "source": [
        "10. Demonstrate operator overloading by creating a class Vector and overriding the add method to add two\n",
        "vectors.\n",
        "-> Vector Addition Overloading:"
      ],
      "metadata": {
        "id": "MvflmfPBZ1Rh"
      }
    },
    {
      "cell_type": "code",
      "source": [
        "class Vector:\n",
        "    def __init__(self, x, y):\n",
        "        self.x = x\n",
        "        self.y = y\n",
        "\n",
        "    def __add__(self, other):\n",
        "        return Vector(self.x + other.x, self.y + other.y)\n",
        "\n",
        "    def __str__(self):\n",
        "        return f\"({self.x}, {self.y})\"\n",
        "\n",
        "v1 = Vector(2, 3)\n",
        "v2 = Vector(1, 4)\n",
        "result = v1 + v2\n",
        "print(result)  # Output: (3, 7)"
      ],
      "metadata": {
        "id": "4COlJXWqZ_tg"
      },
      "execution_count": null,
      "outputs": []
    },
    {
      "cell_type": "markdown",
      "source": [
        "11. Create a class Person with attributes name and age. Add a method greet() that prints \"Hello, my name is\n",
        "{name} and I am {age} years old.\"\n",
        "-> Person Class with Greet Method"
      ],
      "metadata": {
        "id": "1EhDlXi1aBS-"
      }
    },
    {
      "cell_type": "code",
      "source": [
        "class Person:\n",
        "    def __init__(self, name, age):\n",
        "        self.name = name\n",
        "        self.age = age\n",
        "\n",
        "    def greet(self):\n",
        "        print(f\"Hello, my name is {self.name} and I am {self.age} years old.\")\n",
        "\n",
        "# Usage:\n",
        "person = Person(\"Alice\", 30)\n",
        "person.greet()  # Output: Hello, my name is Alice and I am 30 years old."
      ],
      "metadata": {
        "id": "M1AcByePa7Zy"
      },
      "execution_count": null,
      "outputs": []
    },
    {
      "cell_type": "markdown",
      "source": [
        "12. Implement a class Student with attributes name and grades. Create a method average_grade() to compute\n",
        "the average of the grades.\n",
        "-> Student Class with Average Grade"
      ],
      "metadata": {
        "id": "WHxTnFH0a9aQ"
      }
    },
    {
      "cell_type": "code",
      "source": [
        "class Student:\n",
        "    def __init__(self, name, grades):\n",
        "        self.name = name\n",
        "        self.grades = grades\n",
        "\n",
        "    def average_grade(self):\n",
        "        return sum(self.grades) / len(self.grades)\n",
        "\n",
        "# Usage:\n",
        "student = Student(\"Bob\", [85, 90, 78, 92])\n",
        "print(student.average_grade())  # Output: 86.25"
      ],
      "metadata": {
        "id": "bABFYHn0bK2-"
      },
      "execution_count": null,
      "outputs": []
    },
    {
      "cell_type": "markdown",
      "source": [
        "13. Create a class Rectangle with methods set_dimensions() to set the dimensions and area() to calculate the\n",
        "area.\n",
        "-> Rectangle Class with Dimensions and Area"
      ],
      "metadata": {
        "id": "TTCw_OLNbPqE"
      }
    },
    {
      "cell_type": "code",
      "source": [
        "class Rectangle:\n",
        "    def set_dimensions(self, length, width):\n",
        "        self.length = length\n",
        "        self.width = width\n",
        "\n",
        "    def area(self):\n",
        "        return self.length * self.width\n",
        "\n",
        "# Usage:\n",
        "rect = Rectangle()\n",
        "rect.set_dimensions(5, 3)\n",
        "print(rect.area())  # Output: 15"
      ],
      "metadata": {
        "id": "5X84kP3CbbUT"
      },
      "execution_count": null,
      "outputs": []
    },
    {
      "cell_type": "markdown",
      "source": [
        "14. Create a class Employee with a method calculate_salary() that computes the salary based on hours worked\n",
        "and hourly rate. Create a derived class Manager that adds a bonus to the salary.\n",
        "-> Employee and Manager Salary Calculation"
      ],
      "metadata": {
        "id": "H8_kJ9Bzbe8j"
      }
    },
    {
      "cell_type": "code",
      "source": [
        "class Employee:\n",
        "    def calculate_salary(self, hours_worked, hourly_rate):\n",
        "        return hours_worked * hourly_rate\n",
        "\n",
        "class Manager(Employee):\n",
        "    def calculate_salary(self, hours_worked, hourly_rate, bonus=1000):\n",
        "        base_salary = super().calculate_salary(hours_worked, hourly_rate)\n",
        "        return base_salary + bonus\n",
        "\n",
        "# Usage:\n",
        "emp = Employee()\n",
        "print(emp.calculate_salary(40, 20))  # Output: 800\n",
        "\n",
        "mgr = Manager()\n",
        "print(mgr.calculate_salary(40, 20))  # Output: 800 + 1000 = 1800"
      ],
      "metadata": {
        "id": "ULft4hEuboEY"
      },
      "execution_count": null,
      "outputs": []
    },
    {
      "cell_type": "markdown",
      "source": [
        "15. Create a class Product with attributes name, price, and quantity. Implement a method total_price() that\n",
        "calculates the total price of the product.\n",
        "->"
      ],
      "metadata": {
        "id": "DRYUgs4_bqK1"
      }
    },
    {
      "cell_type": "code",
      "source": [
        "class Product:\n",
        "    def __init__(self, name, price, quantity):\n",
        "        self.name = name\n",
        "        self.price = price\n",
        "        self.quantity = quantity\n",
        "\n",
        "    def total_price(self):\n",
        "        return self.price * self.quantity\n",
        "\n",
        "# Example usage:\n",
        "product = Product(\"Apple\", 2.5, 10)\n",
        "print(f\"Total price: ${product.total_price()}\")  # Output: Total price: $25.0"
      ],
      "metadata": {
        "id": "oaRf_4_xnPm2"
      },
      "execution_count": null,
      "outputs": []
    },
    {
      "cell_type": "markdown",
      "source": [
        "16. Create a class Animal with an abstract method sound(). Create two derived classes Cow and Sheep that\n",
        "implement the sound() method.\n",
        "->"
      ],
      "metadata": {
        "id": "eWyjWRxybzFR"
      }
    },
    {
      "cell_type": "code",
      "source": [
        "from abc import ABC, abstractmethod\n",
        "\n",
        "class Animal(ABC):\n",
        "    @abstractmethod\n",
        "    def sound(self):\n",
        "        pass\n",
        "\n",
        "class Cow(Animal):\n",
        "    def sound(self):\n",
        "        return \"Moo\"\n",
        "\n",
        "class Sheep(Animal):\n",
        "    def sound(self):\n",
        "        return \"Baa\"\n",
        "\n",
        "# Example usage:\n",
        "cow = Cow()\n",
        "sheep = Sheep()\n",
        "print(cow.sound())   # Output: Moo\n",
        "print(sheep.sound()) # Output: Baa"
      ],
      "metadata": {
        "id": "iRN5A6nlnXAo"
      },
      "execution_count": null,
      "outputs": []
    },
    {
      "cell_type": "markdown",
      "source": [
        "17. Create a class Book with attributes title, author, and year_published. Add a method get_book_info() that\n",
        "returns a formatted string with the book's details.\n",
        "-> Book Class with Book Info"
      ],
      "metadata": {
        "id": "63oEH6fWb57r"
      }
    },
    {
      "cell_type": "code",
      "source": [
        "class Book:\n",
        "    def __init__(self, title, author, year_published):\n",
        "        self.title = title\n",
        "        self.author = author\n",
        "        self.year_published = year_published\n",
        "\n",
        "    def get_book_info(self):\n",
        "        return f\"'{self.title}' by {self.author}, published in {self.year_published}\"\n",
        "\n",
        "# Usage:\n",
        "book = Book(\"1984\", \"George Orwell\", 1949)\n",
        "print(book.get_book_info())  # Output: '1984' by George Orwell, published in 1949"
      ],
      "metadata": {
        "id": "O1YNUlq6cBVj"
      },
      "execution_count": null,
      "outputs": []
    },
    {
      "cell_type": "markdown",
      "source": [
        "18. Create a class House with attributes address and price. Create a derived class Mansion that adds an\n",
        "attribute number_of_rooms.\n",
        "-> House and Mansion Classes"
      ],
      "metadata": {
        "id": "-RPNJ6k7cDpV"
      }
    },
    {
      "cell_type": "code",
      "source": [
        "class House:\n",
        "    def __init__(self, address, price):\n",
        "        self.address = address\n",
        "        self.price = price\n",
        "\n",
        "class Mansion(House):\n",
        "    def __init__(self, address, price, number_of_rooms):\n",
        "        super().__init__(address, price)\n",
        "        self.number_of_rooms = number_of_rooms\n",
        "\n",
        "# Usage:\n",
        "mansion = Mansion(\"1 Palace Road\", 5000000, 20)\n",
        "print(f\"Address: {mansion.address}, Rooms: {mansion.number_of_rooms}\")  # Output: Address: 1 Palace Road, Rooms: 20"
      ],
      "metadata": {
        "id": "I6jdx7mBcMeg"
      },
      "execution_count": null,
      "outputs": []
    }
  ]
}